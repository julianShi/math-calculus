{
 "cells": [
  {
   "cell_type": "code",
   "execution_count": 43,
   "id": "2dfaa284-68e6-452f-8f23-69cad2247c94",
   "metadata": {},
   "outputs": [],
   "source": [
    "# We import all sympy functions for the sake of simplicity. \n",
    "# But it's not a good practice, due to function names conflict\n",
    "from sympy import *\n",
    "# It's always better to prefix functions with the \"sp.\"\n",
    "import sympy as sp\n",
    "x,y,z,t  = symbols('x y z t', real=True)"
   ]
  },
  {
   "cell_type": "code",
   "execution_count": 33,
   "id": "725ec2fc-41a9-4731-ac1c-fb020da0352a",
   "metadata": {},
   "outputs": [
    {
     "data": {
      "text/latex": [
       "$\\displaystyle \\frac{d}{d x} u{\\left(x \\right)} + \\frac{d}{d x} v{\\left(x \\right)}$"
      ],
      "text/plain": [
       "Derivative(u(x), x) + Derivative(v(x), x)"
      ]
     },
     "execution_count": 33,
     "metadata": {},
     "output_type": "execute_result"
    }
   ],
   "source": [
    "u = Function('u')(x)\n",
    "v = Function('v')(x)\n",
    "diff(u+v,x)"
   ]
  },
  {
   "cell_type": "code",
   "execution_count": 34,
   "id": "cac0f227-925e-4296-932d-c59d502db77c",
   "metadata": {},
   "outputs": [
    {
     "data": {
      "text/latex": [
       "$\\displaystyle u{\\left(x \\right)} \\frac{d}{d x} v{\\left(x \\right)} + v{\\left(x \\right)} \\frac{d}{d x} u{\\left(x \\right)}$"
      ],
      "text/plain": [
       "u(x)*Derivative(v(x), x) + v(x)*Derivative(u(x), x)"
      ]
     },
     "execution_count": 34,
     "metadata": {},
     "output_type": "execute_result"
    }
   ],
   "source": [
    "diff(u*v,x)"
   ]
  },
  {
   "cell_type": "code",
   "execution_count": 35,
   "id": "94e2d8ad-3ce2-4592-8117-2a0effdc7e1d",
   "metadata": {},
   "outputs": [
    {
     "data": {
      "text/latex": [
       "$\\displaystyle \\frac{- u{\\left(x \\right)} \\frac{d}{d x} v{\\left(x \\right)} + v{\\left(x \\right)} \\frac{d}{d x} u{\\left(x \\right)}}{v^{2}{\\left(x \\right)}}$"
      ],
      "text/plain": [
       "(-u(x)*Derivative(v(x), x) + v(x)*Derivative(u(x), x))/v(x)**2"
      ]
     },
     "execution_count": 35,
     "metadata": {},
     "output_type": "execute_result"
    }
   ],
   "source": [
    "simplify(diff(u/v,x))\n",
    "# Rewrite in simpler expression"
   ]
  },
  {
   "cell_type": "code",
   "execution_count": 36,
   "id": "d902e109-1975-425e-bf3e-912d490bda14",
   "metadata": {},
   "outputs": [
    {
     "data": {
      "text/latex": [
       "$\\displaystyle \\frac{d}{d x} u{\\left(x \\right)} \\frac{d}{d u{\\left(x \\right)}} w{\\left(u{\\left(x \\right)} \\right)}$"
      ],
      "text/plain": [
       "Derivative(u(x), x)*Derivative(w(u(x)), u(x))"
      ]
     },
     "execution_count": 36,
     "metadata": {},
     "output_type": "execute_result"
    }
   ],
   "source": [
    "w = Function('w')(u)\n",
    "diff(w,x)"
   ]
  },
  {
   "cell_type": "code",
   "execution_count": 41,
   "id": "369db4bf-a20f-4df0-b463-6ade9c7af95c",
   "metadata": {},
   "outputs": [
    {
     "data": {
      "text/latex": [
       "$\\displaystyle a^{x} \\log{\\left(a \\right)}$"
      ],
      "text/plain": [
       "a**x*log(a)"
      ]
     },
     "execution_count": 41,
     "metadata": {},
     "output_type": "execute_result"
    }
   ],
   "source": [
    "# The following are some common differential examples\n",
    "a = symbols('a')\n",
    "diff(a**x,x)"
   ]
  },
  {
   "cell_type": "code",
   "execution_count": 42,
   "id": "140afb1b-4fae-4990-8ff0-61eadb8441e1",
   "metadata": {},
   "outputs": [
    {
     "data": {
      "text/latex": [
       "$\\displaystyle \\tan^{2}{\\left(x \\right)} + 1$"
      ],
      "text/plain": [
       "tan(x)**2 + 1"
      ]
     },
     "execution_count": 42,
     "metadata": {},
     "output_type": "execute_result"
    }
   ],
   "source": [
    "diff(tan(x),x)"
   ]
  },
  {
   "cell_type": "code",
   "execution_count": 45,
   "id": "0cb37923-e8d1-43d9-bff3-d3ba413d7c0a",
   "metadata": {},
   "outputs": [
    {
     "data": {
      "text/latex": [
       "$\\displaystyle n x^{n - 2} \\left(n - 1\\right)$"
      ],
      "text/plain": [
       "n*x**(n - 2)*(n - 1)"
      ]
     },
     "execution_count": 45,
     "metadata": {},
     "output_type": "execute_result"
    }
   ],
   "source": [
    "simplify(diff(x**n,x,x))"
   ]
  },
  {
   "cell_type": "code",
   "execution_count": 48,
   "id": "16183b49-aa11-407c-98fb-7b64cfc25f67",
   "metadata": {},
   "outputs": [
    {
     "data": {
      "text/latex": [
       "$\\displaystyle \\frac{d^{n}}{d x^{n}} e^{x}$"
      ],
      "text/plain": [
       "Derivative(exp(x), (x, n))"
      ]
     },
     "execution_count": 48,
     "metadata": {},
     "output_type": "execute_result"
    }
   ],
   "source": [
    "n  = symbols('n', integer=True, nonnegative=True)\n",
    "simplify(diff(exp(x),(x,n)).doit())"
   ]
  },
  {
   "cell_type": "code",
   "execution_count": null,
   "id": "d5fab49e-7a37-4a79-987b-f73718abb646",
   "metadata": {},
   "outputs": [],
   "source": []
  }
 ],
 "metadata": {
  "kernelspec": {
   "display_name": "Python 3 (ipykernel)",
   "language": "python",
   "name": "python3"
  },
  "language_info": {
   "codemirror_mode": {
    "name": "ipython",
    "version": 3
   },
   "file_extension": ".py",
   "mimetype": "text/x-python",
   "name": "python",
   "nbconvert_exporter": "python",
   "pygments_lexer": "ipython3",
   "version": "3.12.2"
  }
 },
 "nbformat": 4,
 "nbformat_minor": 5
}
