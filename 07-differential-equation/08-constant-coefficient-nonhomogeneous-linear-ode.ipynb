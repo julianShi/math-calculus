{
 "cells": [
  {
   "cell_type": "code",
   "execution_count": 2,
   "id": "72321128-1627-4495-a8b0-c7a53d3d3f0f",
   "metadata": {},
   "outputs": [],
   "source": [
    "from sympy import * "
   ]
  },
  {
   "cell_type": "code",
   "execution_count": 16,
   "id": "0ec8e260-efe2-4143-a95f-3b3a3d582ea6",
   "metadata": {},
   "outputs": [],
   "source": [
    "# dsolve is capable of solving high-order linear ODE\n",
    "# I rewrite the algorithm, simply for demonstration\n",
    "# lambdas are the coefficients\n",
    "# bx is the non-homogeneous part as a function of x\n",
    "def dsolve_nth_linear_ode(lambdas, bx):\n",
    "  yx = bx\n",
    "  for lambda_ in lambdas:\n",
    "    x = Symbol('x')\n",
    "    y = Function('y')(x)\n",
    "    lhs = y.diff(x) - lambda_ * y - yx\n",
    "    # I used the built-in dsolve to solve the first order ODE\n",
    "    sol = dsolve(Eq(lhs, yx), y, hint='1st_linear')\n",
    "    yx = sol.rhs\n",
    "  return yx"
   ]
  },
  {
   "cell_type": "code",
   "execution_count": 18,
   "id": "d6242810-f28f-45b9-aca7-d23d18277dfd",
   "metadata": {},
   "outputs": [
    {
     "data": {
      "text/latex": [
       "$\\displaystyle \\left(2 C_{1} \\left(\\begin{cases} \\frac{e^{\\lambda_{1} x}}{\\lambda_{1} e^{\\lambda_{2} x} - \\lambda_{2} e^{\\lambda_{2} x}} & \\text{for}\\: \\lambda_{1} \\neq \\lambda_{2} \\\\x & \\text{otherwise} \\end{cases}\\right) + C_{2}\\right) e^{\\lambda_{2} x}$"
      ],
      "text/plain": [
       "(2*C1*Piecewise((exp(lambda_1*x)/(lambda_1*exp(lambda_2*x) - lambda_2*exp(lambda_2*x)), Ne(lambda_1, lambda_2)), (x, True)) + C2)*exp(lambda_2*x)"
      ]
     },
     "execution_count": 18,
     "metadata": {},
     "output_type": "execute_result"
    }
   ],
   "source": [
    "x = Symbol('x')\n",
    "lambda_, lambda_1, lambda_2 = symbols('lambda lambda_1 lambda_2')\n",
    "# We take the second-order homogeneous ODE for example\n",
    "dsolve_nth_linear_ode([lambda_1, lambda_2], 0)"
   ]
  },
  {
   "cell_type": "code",
   "execution_count": 19,
   "id": "ad3f0672-26ed-41ea-bb58-54a01bf2beca",
   "metadata": {},
   "outputs": [
    {
     "data": {
      "text/latex": [
       "$\\displaystyle \\left(- 2 C_{1} e^{- x} + C_{2}\\right) e^{2 x}$"
      ],
      "text/plain": [
       "(-2*C1*exp(-x) + C2)*exp(2*x)"
      ]
     },
     "execution_count": 19,
     "metadata": {},
     "output_type": "execute_result"
    }
   ],
   "source": [
    "# We verify if our algorithm is correct\n",
    "dsolve_nth_linear_ode([1, 2], 0)"
   ]
  },
  {
   "cell_type": "code",
   "execution_count": 20,
   "id": "fa8c1397-1f46-43da-8b53-caf01ee8ebf9",
   "metadata": {},
   "outputs": [
    {
     "data": {
      "text/latex": [
       "$\\displaystyle \\left(2 C_{1} x + C_{2}\\right) e^{\\lambda x}$"
      ],
      "text/plain": [
       "(2*C1*x + C2)*exp(lambda*x)"
      ]
     },
     "execution_count": 20,
     "metadata": {},
     "output_type": "execute_result"
    }
   ],
   "source": [
    "# We verify if our algorithm is correct\n",
    "dsolve_nth_linear_ode([lambda_, lambda_], 0)"
   ]
  },
  {
   "cell_type": "code",
   "execution_count": 22,
   "id": "7a7c1f11-0db7-4b23-abcd-a302736037f1",
   "metadata": {},
   "outputs": [
    {
     "data": {
      "text/latex": [
       "$\\displaystyle \\left(- 2 C_{1} e^{- x} + C_{2} + \\left(2 x^{2} + 6 x + 7\\right) e^{- 2 x}\\right) e^{2 x}$"
      ],
      "text/plain": [
       "(-2*C1*exp(-x) + C2 + (2*x**2 + 6*x + 7)*exp(-2*x))*exp(2*x)"
      ]
     },
     "execution_count": 22,
     "metadata": {},
     "output_type": "execute_result"
    }
   ],
   "source": [
    "# We verify if our algorithm is correct\n",
    "dsolve_nth_linear_ode([1, 2], x**2)"
   ]
  },
  {
   "cell_type": "code",
   "execution_count": 23,
   "id": "cc9848eb-0c03-427f-8d80-ae4bd286a09f",
   "metadata": {},
   "outputs": [
    {
     "data": {
      "text/latex": [
       "$\\displaystyle \\left(2 C_{1} e^{- 2 x} - 2 C_{2} e^{- x} + C_{3}\\right) e^{3 x}$"
      ],
      "text/plain": [
       "(2*C1*exp(-2*x) - 2*C2*exp(-x) + C3)*exp(3*x)"
      ]
     },
     "execution_count": 23,
     "metadata": {},
     "output_type": "execute_result"
    }
   ],
   "source": [
    "# We verify if our algorithm is correct\n",
    "dsolve_nth_linear_ode([1, 2, 3], 0)"
   ]
  },
  {
   "cell_type": "code",
   "execution_count": null,
   "id": "9af81533-b4e5-4bc9-a187-bb1a6cc8be42",
   "metadata": {},
   "outputs": [],
   "source": []
  }
 ],
 "metadata": {
  "kernelspec": {
   "display_name": "Python 3 (ipykernel)",
   "language": "python",
   "name": "python3"
  },
  "language_info": {
   "codemirror_mode": {
    "name": "ipython",
    "version": 3
   },
   "file_extension": ".py",
   "mimetype": "text/x-python",
   "name": "python",
   "nbconvert_exporter": "python",
   "pygments_lexer": "ipython3",
   "version": "3.12.2"
  }
 },
 "nbformat": 4,
 "nbformat_minor": 5
}
