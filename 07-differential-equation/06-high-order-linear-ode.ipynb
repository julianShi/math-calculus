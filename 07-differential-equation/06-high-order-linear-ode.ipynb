{
 "cells": [
  {
   "cell_type": "code",
   "execution_count": 33,
   "id": "998b78f7-00e9-44b7-9fdb-9239f722fd7b",
   "metadata": {},
   "outputs": [],
   "source": [
    "# prepare environment\n",
    "from sympy import * \n",
    "# define variables\n",
    "# y is not defined as a function, because it is reserved as a variable in PDE\n",
    "x, y, z = symbols('x y z')\n",
    "# define constant coefficients\n",
    "a, b, c = symbols(\"a b c\", real=True)\n",
    "# define functions\n",
    "f, g, h, p, q = symbols(\"f g h p q\", cls=Function)"
   ]
  },
  {
   "cell_type": "code",
   "execution_count": 35,
   "id": "f46515ce-f23a-42f1-88d6-ccdbc660d5ca",
   "metadata": {},
   "outputs": [
    {
     "data": {
      "text/latex": [
       "$\\displaystyle a \\frac{d}{d x} f{\\left(x \\right)} + b f{\\left(x \\right)} + \\frac{d^{2}}{d x^{2}} f{\\left(x \\right)} = 0$"
      ],
      "text/plain": [
       "Eq(a*Derivative(f(x), x) + b*f(x) + Derivative(f(x), (x, 2)), 0)"
      ]
     },
     "execution_count": 35,
     "metadata": {},
     "output_type": "execute_result"
    }
   ],
   "source": [
    "lhs = f(x).diff(x,2) + a * f(x).diff(x) + b * f(x)\n",
    "# second order homogeneous ODE\n",
    "eq0 = Eq(lhs, 0)\n",
    "eq0"
   ]
  },
  {
   "cell_type": "code",
   "execution_count": 18,
   "id": "a82a1e8d-c4b9-481b-be75-dbf4ab7c5b19",
   "metadata": {},
   "outputs": [
    {
     "data": {
      "text/latex": [
       "$\\displaystyle f{\\left(x \\right)} = C_{1} e^{\\frac{x \\left(- a + \\sqrt{a^{2} - 4 b}\\right)}{2}} + C_{2} e^{- \\frac{x \\left(a + \\sqrt{a^{2} - 4 b}\\right)}{2}}$"
      ],
      "text/plain": [
       "Eq(f(x), C1*exp(x*(-a + sqrt(a**2 - 4*b))/2) + C2*exp(-x*(a + sqrt(a**2 - 4*b))/2))"
      ]
     },
     "execution_count": 18,
     "metadata": {},
     "output_type": "execute_result"
    }
   ],
   "source": [
    "sol0 = dsolve(eq0, f(x))\n",
    "sol0"
   ]
  },
  {
   "cell_type": "code",
   "execution_count": 19,
   "id": "317a9cb2-f712-4150-8098-c572bf8c4a87",
   "metadata": {},
   "outputs": [
    {
     "data": {
      "text/latex": [
       "$\\displaystyle a \\frac{d}{d x} f{\\left(x \\right)} + b f{\\left(x \\right)} + \\frac{d^{2}}{d x^{2}} f{\\left(x \\right)} = g{\\left(x \\right)}$"
      ],
      "text/plain": [
       "Eq(a*Derivative(f(x), x) + b*f(x) + Derivative(f(x), (x, 2)), g(x))"
      ]
     },
     "execution_count": 19,
     "metadata": {},
     "output_type": "execute_result"
    }
   ],
   "source": [
    "# second order non-homogeneous ODE\n",
    "eq1 = Eq( lhs, g(x))\n",
    "eq1"
   ]
  },
  {
   "cell_type": "code",
   "execution_count": 21,
   "id": "7769fbf7-1559-43bb-ae9a-8454215d0256",
   "metadata": {},
   "outputs": [
    {
     "data": {
      "text/latex": [
       "$\\displaystyle f{\\left(x \\right)} = C_{1} e^{\\frac{x \\left(- a + \\sqrt{a^{2} - 4 b}\\right)}{2}} + C_{2} e^{- \\frac{x \\left(a + \\sqrt{a^{2} - 4 b}\\right)}{2}} + \\frac{e^{\\frac{x \\left(- a + \\sqrt{a^{2} - 4 b}\\right)}{2}} \\int g{\\left(x \\right)} e^{\\frac{a x}{2}} e^{- \\frac{x \\sqrt{a^{2} - 4 b}}{2}}\\, dx}{\\sqrt{a^{2} - 4 b}} - \\frac{e^{- \\frac{x \\left(a + \\sqrt{a^{2} - 4 b}\\right)}{2}} \\int g{\\left(x \\right)} e^{\\frac{a x}{2}} e^{\\frac{x \\sqrt{a^{2} - 4 b}}{2}}\\, dx}{\\sqrt{a^{2} - 4 b}}$"
      ],
      "text/plain": [
       "Eq(f(x), C1*exp(x*(-a + sqrt(a**2 - 4*b))/2) + C2*exp(-x*(a + sqrt(a**2 - 4*b))/2) + exp(x*(-a + sqrt(a**2 - 4*b))/2)*Integral(g(x)*exp(a*x/2)*exp(-x*sqrt(a**2 - 4*b)/2), x)/sqrt(a**2 - 4*b) - exp(-x*(a + sqrt(a**2 - 4*b))/2)*Integral(g(x)*exp(a*x/2)*exp(x*sqrt(a**2 - 4*b)/2), x)/sqrt(a**2 - 4*b))"
      ]
     },
     "execution_count": 21,
     "metadata": {},
     "output_type": "execute_result"
    }
   ],
   "source": [
    "sol1 = dsolve(eq1, f(x))\n",
    "sol1\n",
    "# You can read that the sol1 is the sum of the sol0 and a special function"
   ]
  },
  {
   "cell_type": "code",
   "execution_count": 28,
   "id": "24ec8190-2f2c-493c-a272-50202dfbf5e8",
   "metadata": {},
   "outputs": [
    {
     "data": {
      "text/plain": [
       "(True, 0)"
      ]
     },
     "execution_count": 28,
     "metadata": {},
     "output_type": "execute_result"
    }
   ],
   "source": [
    "checkodesol(eq1, sol1)\n",
    "# You can verify the sol1"
   ]
  },
  {
   "cell_type": "code",
   "execution_count": null,
   "id": "6feb7e05-9164-499b-96c0-ac07aafc7675",
   "metadata": {},
   "outputs": [
    {
     "data": {
      "text/latex": [
       "$\\displaystyle 2 C_{1} e^{\\frac{x \\left(- a + \\sqrt{a^{2} - 4 b}\\right)}{2}} + 2 C_{2} e^{- \\frac{x \\left(a + \\sqrt{a^{2} - 4 b}\\right)}{2}} + \\frac{e^{\\frac{x \\left(- a + \\sqrt{a^{2} - 4 b}\\right)}{2}} \\int g{\\left(x \\right)} e^{\\frac{a x}{2}} e^{- \\frac{x \\sqrt{a^{2} - 4 b}}{2}}\\, dx}{\\sqrt{a^{2} - 4 b}} - \\frac{e^{- \\frac{x \\left(a + \\sqrt{a^{2} - 4 b}\\right)}{2}} \\int g{\\left(x \\right)} e^{\\frac{a x}{2}} e^{\\frac{x \\sqrt{a^{2} - 4 b}}{2}}\\, dx}{\\sqrt{a^{2} - 4 b}}$"
      ],
      "text/plain": [
       "2*C1*exp(x*(-a + sqrt(a**2 - 4*b))/2) + 2*C2*exp(-x*(a + sqrt(a**2 - 4*b))/2) + exp(x*(-a + sqrt(a**2 - 4*b))/2)*Integral(g(x)*exp(a*x/2)*exp(-x*sqrt(a**2 - 4*b)/2), x)/sqrt(a**2 - 4*b) - exp(-x*(a + sqrt(a**2 - 4*b))/2)*Integral(g(x)*exp(a*x/2)*exp(x*sqrt(a**2 - 4*b)/2), x)/sqrt(a**2 - 4*b)"
      ]
     },
     "execution_count": 27,
     "metadata": {},
     "output_type": "execute_result"
    }
   ],
   "source": [
    "sol0.rhs + sol1.rhs"
   ]
  },
  {
   "cell_type": "code",
   "execution_count": 30,
   "id": "ad907abc-cfb4-406b-9260-dddc621699b2",
   "metadata": {},
   "outputs": [
    {
     "data": {
      "text/latex": [
       "$\\displaystyle C_{1} e^{\\frac{x \\left(- a + \\sqrt{a^{2} - 4 b}\\right)}{2}} + C_{2} e^{- \\frac{x \\left(a + \\sqrt{a^{2} - 4 b}\\right)}{2}} + \\frac{e^{\\frac{x \\left(- a + \\sqrt{a^{2} - 4 b}\\right)}{2}} \\int g{\\left(x \\right)} e^{\\frac{a x}{2}} e^{- \\frac{x \\sqrt{a^{2} - 4 b}}{2}}\\, dx}{\\sqrt{a^{2} - 4 b}} - \\frac{e^{- \\frac{x \\left(a + \\sqrt{a^{2} - 4 b}\\right)}{2}} \\int g{\\left(x \\right)} e^{\\frac{a x}{2}} e^{\\frac{x \\sqrt{a^{2} - 4 b}}{2}}\\, dx}{\\sqrt{a^{2} - 4 b}}$"
      ],
      "text/plain": [
       "C1*exp(x*(-a + sqrt(a**2 - 4*b))/2) + C2*exp(-x*(a + sqrt(a**2 - 4*b))/2) + exp(x*(-a + sqrt(a**2 - 4*b))/2)*Integral(g(x)*exp(a*x/2)*exp(-x*sqrt(a**2 - 4*b)/2), x)/sqrt(a**2 - 4*b) - exp(-x*(a + sqrt(a**2 - 4*b))/2)*Integral(g(x)*exp(a*x/2)*exp(x*sqrt(a**2 - 4*b)/2), x)/sqrt(a**2 - 4*b)"
      ]
     },
     "execution_count": 30,
     "metadata": {},
     "output_type": "execute_result"
    }
   ],
   "source": [
    "from sympy.solvers.ode.ode import constantsimp\n",
    "C1, C2, C3 = symbols('C1, C2, C3')\n",
    "constantsimp(sol0.rhs + sol1.rhs, {C1, C2, C3})\n",
    "# You can read that `sol0.rhs + sol1.rhs` is equivalent to sol1.rhs"
   ]
  },
  {
   "cell_type": "code",
   "execution_count": 25,
   "id": "e73d8f47-5ca7-4bc0-bc5f-516632843292",
   "metadata": {},
   "outputs": [
    {
     "data": {
      "text/plain": [
       "(True, 0)"
      ]
     },
     "execution_count": 25,
     "metadata": {},
     "output_type": "execute_result"
    }
   ],
   "source": [
    "checkodesol(eq1, sol0.rhs + sol1.rhs )"
   ]
  }
 ],
 "metadata": {
  "kernelspec": {
   "display_name": "Python 3 (ipykernel)",
   "language": "python",
   "name": "python3"
  },
  "language_info": {
   "codemirror_mode": {
    "name": "ipython",
    "version": 3
   },
   "file_extension": ".py",
   "mimetype": "text/x-python",
   "name": "python",
   "nbconvert_exporter": "python",
   "pygments_lexer": "ipython3",
   "version": "3.12.2"
  }
 },
 "nbformat": 4,
 "nbformat_minor": 5
}
