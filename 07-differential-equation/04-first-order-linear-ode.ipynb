{
 "cells": [
  {
   "cell_type": "code",
   "execution_count": 73,
   "id": "609f0223-edf4-4d71-bbcc-4fb225b925ba",
   "metadata": {},
   "outputs": [],
   "source": [
    "# prepare environment\n",
    "from sympy import * \n",
    "# define variables\n",
    "# y is not defined as a function, because it is reserved as a variable in PDE\n",
    "x, y, z = symbols('x y z')\n",
    "# define constant coefficients\n",
    "a, b, c = symbols(\"a b c\", real=True)\n",
    "# define functions\n",
    "f, g, h, p, q = symbols(\"f g h p q\", cls=Function)"
   ]
  },
  {
   "cell_type": "code",
   "execution_count": 4,
   "id": "1a335518-4ee3-43fd-b785-43e078641e47",
   "metadata": {},
   "outputs": [
    {
     "data": {
      "text/latex": [
       "$\\displaystyle f{\\left(x \\right)} p{\\left(x \\right)} + \\frac{d}{d x} f{\\left(x \\right)} = 0$"
      ],
      "text/plain": [
       "Eq(f(x)*p(x) + Derivative(f(x), x), 0)"
      ]
     },
     "execution_count": 4,
     "metadata": {},
     "output_type": "execute_result"
    }
   ],
   "source": [
    "# first order homogeneous linear ODE\n",
    "first_order_homogeneous = Eq(diff(f(x),x)+p(x)*f(x),0)\n",
    "first_order_homogeneous"
   ]
  },
  {
   "cell_type": "code",
   "execution_count": 28,
   "id": "785caad3-afc8-420a-ae50-a5df05c907af",
   "metadata": {},
   "outputs": [
    {
     "data": {
      "text/latex": [
       "$\\displaystyle f{\\left(x \\right)} = C_{1} e^{- \\int p{\\left(x \\right)}\\, dx}$"
      ],
      "text/plain": [
       "Eq(f(x), C1*exp(-Integral(p(x), x)))"
      ]
     },
     "execution_count": 28,
     "metadata": {},
     "output_type": "execute_result"
    }
   ],
   "source": [
    "solution = dsolve(first_order_homogeneous, f(x))\n",
    "solution # the general solution"
   ]
  },
  {
   "cell_type": "code",
   "execution_count": 29,
   "id": "1b6f0cfa-6262-4e95-8d6b-5ef4b8b52b9c",
   "metadata": {},
   "outputs": [
    {
     "data": {
      "text/latex": [
       "$\\displaystyle f{\\left(x \\right)} = \\left(e^{- \\int p{\\left(x \\right)}\\, dx}\\right) e^{\\int\\limits^{0} p{\\left(x \\right)}\\, dx}$"
      ],
      "text/plain": [
       "Eq(f(x), exp(-Integral(p(x), x))*exp(Integral(p(x), (x, 0))))"
      ]
     },
     "execution_count": 29,
     "metadata": {},
     "output_type": "execute_result"
    }
   ],
   "source": [
    "# Solve the ODE with initial condition\n",
    "solution = dsolve(first_order_homogeneous, f(x), ics={f(0): 1})\n",
    "solution"
   ]
  },
  {
   "cell_type": "code",
   "execution_count": 30,
   "id": "dffa1eb4-cd40-45bd-8f18-877f1e8e6c70",
   "metadata": {},
   "outputs": [
    {
     "data": {
      "text/plain": [
       "(True, 0)"
      ]
     },
     "execution_count": 30,
     "metadata": {},
     "output_type": "execute_result"
    }
   ],
   "source": [
    "# Verify if this is the correct solution\n",
    "checkodesol(first_order_homogeneous, solution)"
   ]
  },
  {
   "cell_type": "code",
   "execution_count": 32,
   "id": "56a96c85-110f-4bbf-9e77-6f7d1490fe18",
   "metadata": {},
   "outputs": [
    {
     "data": {
      "text/latex": [
       "$\\displaystyle a f{\\left(x \\right)} + \\frac{d}{d x} f{\\left(x \\right)} = 0$"
      ],
      "text/plain": [
       "Eq(a*f(x) + Derivative(f(x), x), 0)"
      ]
     },
     "execution_count": 32,
     "metadata": {},
     "output_type": "execute_result"
    }
   ],
   "source": [
    "# first order constant coefficient homogeneous linear ODE\n",
    "first_order_constant_coeff_homogeneous = Eq(diff(f(x),x)+a*f(x),0)\n",
    "first_order_constant_coeff_homogeneous"
   ]
  },
  {
   "cell_type": "code",
   "execution_count": 33,
   "id": "1507bf2a-a928-4811-aa14-b5c5b1b77ae3",
   "metadata": {},
   "outputs": [
    {
     "data": {
      "text/latex": [
       "$\\displaystyle f{\\left(x \\right)} = C_{1} e^{- a x}$"
      ],
      "text/plain": [
       "Eq(f(x), C1*exp(-a*x))"
      ]
     },
     "execution_count": 33,
     "metadata": {},
     "output_type": "execute_result"
    }
   ],
   "source": [
    "dsolve(first_order_constant_coeff_homogeneous, f(x))"
   ]
  },
  {
   "cell_type": "code",
   "execution_count": 34,
   "id": "3acd2fb1-049d-45e0-87bd-0315b3ba993e",
   "metadata": {},
   "outputs": [
    {
     "data": {
      "text/latex": [
       "$\\displaystyle f{\\left(x \\right)} p{\\left(x \\right)} + \\frac{d}{d x} f{\\left(x \\right)} = q{\\left(x \\right)}$"
      ],
      "text/plain": [
       "Eq(f(x)*p(x) + Derivative(f(x), x), q(x))"
      ]
     },
     "execution_count": 34,
     "metadata": {},
     "output_type": "execute_result"
    }
   ],
   "source": [
    "# first order homogeneous linear ODE\n",
    "first_order_non_homogeneous = Eq(diff(f(x),x)+p(x)*f(x),q(x))\n",
    "first_order_non_homogeneous"
   ]
  },
  {
   "cell_type": "code",
   "execution_count": 35,
   "id": "3e24b5ef-81ac-4ebf-94e2-24eba6151c84",
   "metadata": {},
   "outputs": [
    {
     "data": {
      "text/latex": [
       "$\\displaystyle \\left(e^{\\int p{\\left(x \\right)}\\, dx} - \\int p{\\left(x \\right)} e^{\\int p{\\left(x \\right)}\\, dx}\\, dx\\right) f{\\left(x \\right)} + \\int \\left(f{\\left(x \\right)} p{\\left(x \\right)} - q{\\left(x \\right)}\\right) e^{\\int p{\\left(x \\right)}\\, dx}\\, dx = C_{1}$"
      ],
      "text/plain": [
       "Eq((exp(Integral(p(x), x)) - Integral(p(x)*exp(Integral(p(x), x)), x))*f(x) + Integral((f(x)*p(x) - q(x))*exp(Integral(p(x), x)), x), C1)"
      ]
     },
     "execution_count": 35,
     "metadata": {},
     "output_type": "execute_result"
    }
   ],
   "source": [
    "solution = dsolve(first_order_non_homogeneous, f(x))\n",
    "solution"
   ]
  },
  {
   "cell_type": "code",
   "execution_count": 52,
   "id": "9def12f2-85d1-453e-969a-eaaa450fa37c",
   "metadata": {},
   "outputs": [
    {
     "data": {
      "text/latex": [
       "$\\displaystyle a f{\\left(x \\right)} + \\frac{d}{d x} f{\\left(x \\right)} = b$"
      ],
      "text/plain": [
       "Eq(a*f(x) + Derivative(f(x), x), b)"
      ]
     },
     "execution_count": 52,
     "metadata": {},
     "output_type": "execute_result"
    }
   ],
   "source": [
    "# first order constant coefficient non homogeneous linear ODE\n",
    "first_order_constant_coeff_non_homogeneous = Eq(diff(f(x),x)+a*f(x),b)\n",
    "first_order_constant_coeff_non_homogeneous"
   ]
  },
  {
   "cell_type": "code",
   "execution_count": 54,
   "id": "15eb7fff-2c92-409e-ac21-a6dd411f4f45",
   "metadata": {},
   "outputs": [
    {
     "data": {
      "text/latex": [
       "$\\displaystyle f{\\left(x \\right)} = C_{1} e^{- a x} + \\frac{b}{a}$"
      ],
      "text/plain": [
       "Eq(f(x), C1*exp(-a*x) + b/a)"
      ]
     },
     "execution_count": 54,
     "metadata": {},
     "output_type": "execute_result"
    }
   ],
   "source": [
    "dsolve(first_order_constant_coeff_non_homogeneous, f(x))"
   ]
  },
  {
   "cell_type": "code",
   "execution_count": 56,
   "id": "2dfbb4c1-28dc-409d-bf89-deef4622754f",
   "metadata": {},
   "outputs": [
    {
     "data": {
      "text/latex": [
       "$\\displaystyle f{\\left(x \\right)} = \\frac{b}{a} + \\frac{\\left(a - b\\right) e^{- a x}}{a}$"
      ],
      "text/plain": [
       "Eq(f(x), b/a + (a - b)*exp(-a*x)/a)"
      ]
     },
     "execution_count": 56,
     "metadata": {},
     "output_type": "execute_result"
    }
   ],
   "source": [
    "# Solve the ODE with initial condition\n",
    "dsolve(first_order_constant_coeff_non_homogeneous, f(x), ics={f(0): 1})"
   ]
  },
  {
   "cell_type": "code",
   "execution_count": 57,
   "id": "632187d1-e871-469d-81af-a8b60f394aa7",
   "metadata": {},
   "outputs": [
    {
     "data": {
      "text/plain": [
       "('separable',\n",
       " '1st_exact',\n",
       " '1st_linear',\n",
       " 'Bernoulli',\n",
       " 'almost_linear',\n",
       " '1st_power_series',\n",
       " 'lie_group',\n",
       " 'separable_Integral',\n",
       " '1st_exact_Integral',\n",
       " '1st_linear_Integral',\n",
       " 'Bernoulli_Integral',\n",
       " 'almost_linear_Integral')"
      ]
     },
     "execution_count": 57,
     "metadata": {},
     "output_type": "execute_result"
    }
   ],
   "source": [
    "# As you remember, there are multiple types of simple ODEs taught in Calculus\n",
    "# But there is no unique solver for all of them. \n",
    "# It will be much appreciated if the solver hint (human experience) is passed to `dsolve`\n",
    "# Let's see if sympy knows the ODE classification before giving hints\n",
    "classify_ode(first_order_homogeneous)"
   ]
  },
  {
   "cell_type": "code",
   "execution_count": 59,
   "id": "0388b533-c3ea-4c77-beae-75d3fb6779bf",
   "metadata": {},
   "outputs": [
    {
     "data": {
      "text/plain": [
       "('separable',\n",
       " '1st_exact',\n",
       " '1st_linear',\n",
       " 'Bernoulli',\n",
       " 'almost_linear',\n",
       " '1st_power_series',\n",
       " 'lie_group',\n",
       " 'nth_linear_constant_coeff_homogeneous',\n",
       " 'separable_Integral',\n",
       " '1st_exact_Integral',\n",
       " '1st_linear_Integral',\n",
       " 'Bernoulli_Integral',\n",
       " 'almost_linear_Integral')"
      ]
     },
     "execution_count": 59,
     "metadata": {},
     "output_type": "execute_result"
    }
   ],
   "source": [
    "classify_ode(first_order_constant_coeff_homogeneous)\n",
    "# As you see, sympy identified the constant coefficients in the ODE"
   ]
  },
  {
   "cell_type": "code",
   "execution_count": 58,
   "id": "8b7c8e18-34f5-447a-9d47-d63adbdb6cdf",
   "metadata": {},
   "outputs": [
    {
     "data": {
      "text/plain": [
       "('1st_exact',\n",
       " '1st_linear',\n",
       " 'Bernoulli',\n",
       " 'almost_linear',\n",
       " '1st_power_series',\n",
       " 'lie_group',\n",
       " '1st_exact_Integral',\n",
       " '1st_linear_Integral',\n",
       " 'Bernoulli_Integral',\n",
       " 'almost_linear_Integral')"
      ]
     },
     "execution_count": 58,
     "metadata": {},
     "output_type": "execute_result"
    }
   ],
   "source": [
    "classify_ode(first_order_non_homogeneous)\n",
    "# As you see from the classification that non-homogeneous ODEs are not separable"
   ]
  },
  {
   "cell_type": "code",
   "execution_count": 60,
   "id": "5acff97a-acf4-4787-9e10-f7938c9642d9",
   "metadata": {},
   "outputs": [
    {
     "data": {
      "text/plain": [
       "('separable',\n",
       " '1st_exact',\n",
       " '1st_linear',\n",
       " 'Bernoulli',\n",
       " 'almost_linear',\n",
       " '1st_power_series',\n",
       " 'lie_group',\n",
       " 'nth_linear_constant_coeff_undetermined_coefficients',\n",
       " 'nth_linear_constant_coeff_variation_of_parameters',\n",
       " 'separable_Integral',\n",
       " '1st_exact_Integral',\n",
       " '1st_linear_Integral',\n",
       " 'Bernoulli_Integral',\n",
       " 'almost_linear_Integral',\n",
       " 'nth_linear_constant_coeff_variation_of_parameters_Integral')"
      ]
     },
     "execution_count": 60,
     "metadata": {},
     "output_type": "execute_result"
    }
   ],
   "source": [
    "classify_ode(first_order_constant_coeff_non_homogeneous)"
   ]
  }
 ],
 "metadata": {
  "kernelspec": {
   "display_name": "Python 3 (ipykernel)",
   "language": "python",
   "name": "python3"
  },
  "language_info": {
   "codemirror_mode": {
    "name": "ipython",
    "version": 3
   },
   "file_extension": ".py",
   "mimetype": "text/x-python",
   "name": "python",
   "nbconvert_exporter": "python",
   "pygments_lexer": "ipython3",
   "version": "3.12.2"
  }
 },
 "nbformat": 4,
 "nbformat_minor": 5
}
