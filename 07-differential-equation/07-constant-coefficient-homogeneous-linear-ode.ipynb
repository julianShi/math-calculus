{
 "cells": [
  {
   "cell_type": "code",
   "execution_count": 1,
   "id": "80b31604-b239-4767-9660-b03243a91841",
   "metadata": {},
   "outputs": [],
   "source": [
    "# prepare environment\n",
    "from sympy import * \n",
    "# define variables\n",
    "# y is not defined as a function, because it is reserved as a variable in PDE\n",
    "x, y, z = symbols('x y z')\n",
    "# define constant coefficients\n",
    "a, b, c = symbols(\"a b c\", real=True)\n",
    "# define functions\n",
    "f, g, h, p, q = symbols(\"f g h p q\", cls=Function)"
   ]
  },
  {
   "cell_type": "markdown",
   "id": "5bfad231-7e8c-4e15-ad86-af30c0f607a4",
   "metadata": {},
   "source": [
    "We have demonstrated solving second order homogeneous equation \n",
    "\n",
    "$$\n",
    "\\frac{d^{2}}{d x^{2}} f{\\left(x \\right)} + a \\frac{d}{d x} f{\\left(x \\right)} + b f{\\left(x \\right)} = 0\n",
    "$$\n",
    "\n",
    "in the last section.\n",
    "Now we break it into two second order homogeneous equations,\n",
    "and solve in vector space\n",
    "\n",
    "I only covered the part when the eigen equation has only distinct eigenvalues. "
   ]
  },
  {
   "cell_type": "code",
   "execution_count": 5,
   "id": "d482af3e-6522-4d31-a821-979944b6a021",
   "metadata": {},
   "outputs": [
    {
     "data": {
      "text/latex": [
       "$\\displaystyle \\frac{d}{d x} f{\\left(x \\right)} = g{\\left(x \\right)}$"
      ],
      "text/plain": [
       "Eq(Derivative(f(x), x), g(x))"
      ]
     },
     "execution_count": 5,
     "metadata": {},
     "output_type": "execute_result"
    }
   ],
   "source": [
    "eq1 = Eq(f(x).diff(x), g(x))\n",
    "eq1"
   ]
  },
  {
   "cell_type": "code",
   "execution_count": 3,
   "id": "8d085119-54ac-4489-8827-97905e43e58e",
   "metadata": {},
   "outputs": [
    {
     "data": {
      "text/latex": [
       "$\\displaystyle \\frac{d}{d x} g{\\left(x \\right)} = - a g{\\left(x \\right)} - b f{\\left(x \\right)}$"
      ],
      "text/plain": [
       "Eq(Derivative(g(x), x), -a*g(x) - b*f(x))"
      ]
     },
     "execution_count": 3,
     "metadata": {},
     "output_type": "execute_result"
    }
   ],
   "source": [
    "eq2 = Eq(g(x).diff(x), -b * f(x) -a * g(x))\n",
    "eq2"
   ]
  },
  {
   "cell_type": "code",
   "execution_count": 6,
   "id": "1cbae6fe-e233-4036-818c-ccbab0414e85",
   "metadata": {},
   "outputs": [],
   "source": [
    "sol = dsolve([eq1, eq2], [f(x),g(x)])"
   ]
  },
  {
   "cell_type": "code",
   "execution_count": 8,
   "id": "2bdf2b42-0576-48fc-a826-9989298389ef",
   "metadata": {},
   "outputs": [
    {
     "data": {
      "text/latex": [
       "$\\displaystyle f{\\left(x \\right)} = - \\frac{2 C_{1} e^{- \\frac{x \\left(a - \\sqrt{a^{2} - 4 b}\\right)}{2}}}{a - \\sqrt{a^{2} - 4 b}} - \\frac{2 C_{2} e^{- \\frac{x \\left(a + \\sqrt{a^{2} - 4 b}\\right)}{2}}}{a + \\sqrt{a^{2} - 4 b}}$"
      ],
      "text/plain": [
       "Eq(f(x), -2*C1*exp(-x*(a - sqrt(a**2 - 4*b))/2)/(a - sqrt(a**2 - 4*b)) - 2*C2*exp(-x*(a + sqrt(a**2 - 4*b))/2)/(a + sqrt(a**2 - 4*b)))"
      ]
     },
     "execution_count": 8,
     "metadata": {},
     "output_type": "execute_result"
    }
   ],
   "source": [
    "sol[0]\n",
    "# You can read the solution being the same to the solution in the last section"
   ]
  },
  {
   "cell_type": "code",
   "execution_count": 9,
   "id": "454f54e6-c793-4d0b-89a5-2d41b5623a82",
   "metadata": {},
   "outputs": [
    {
     "data": {
      "text/latex": [
       "$\\displaystyle g{\\left(x \\right)} = C_{1} e^{- \\frac{x \\left(a - \\sqrt{a^{2} - 4 b}\\right)}{2}} + C_{2} e^{- \\frac{x \\left(a + \\sqrt{a^{2} - 4 b}\\right)}{2}}$"
      ],
      "text/plain": [
       "Eq(g(x), C1*exp(-x*(a - sqrt(a**2 - 4*b))/2) + C2*exp(-x*(a + sqrt(a**2 - 4*b))/2))"
      ]
     },
     "execution_count": 9,
     "metadata": {},
     "output_type": "execute_result"
    }
   ],
   "source": [
    "sol[1]"
   ]
  },
  {
   "cell_type": "markdown",
   "id": "f04b6fe7-45bb-4ad5-aa22-0d5dd4565177",
   "metadata": {},
   "source": [
    "We use actual values to simplify the demonstration\n",
    "$$\n",
    "\\frac{d^{2}}{d x^{2}} f{\\left(x \\right)} -3 \\frac{d}{d x} f{\\left(x \\right)} + 2 f{\\left(x \\right)} = 0\n",
    "$$\n",
    "I only covered the part when the eigen equation has distinct eigenvalues. "
   ]
  },
  {
   "cell_type": "code",
   "execution_count": 15,
   "id": "391b3b81-fdcb-48bf-8794-9f6449018412",
   "metadata": {},
   "outputs": [
    {
     "data": {
      "text/latex": [
       "$\\displaystyle f{\\left(x \\right)} = C_{1} e^{x} + \\frac{C_{2} e^{2 x}}{2}$"
      ],
      "text/plain": [
       "Eq(f(x), C1*exp(x) + C2*exp(2*x)/2)"
      ]
     },
     "execution_count": 15,
     "metadata": {},
     "output_type": "execute_result"
    }
   ],
   "source": [
    "eqs2 = [eq1.subs(a,-3).subs(b,2), eq2.subs(a,-3).subs(b,2)]\n",
    "sol2 = dsolve(eqs2, [f(x),g(x)])\n",
    "sol2[0]"
   ]
  },
  {
   "cell_type": "markdown",
   "id": "d46e4080-606a-45ed-9aa7-8d8645ae21d0",
   "metadata": {},
   "source": [
    "We implement the vector space method in the Markdown file.\n",
    "For first order homogeneous ODEs\n",
    "$$\n",
    "\\mathbf{f}(x) '=\\mathbf{Af}(x)\n",
    "$$\n",
    "we diagonalize the coefficient matrix\n",
    "$$\n",
    "\\mathbf{\\Lambda} = \\mathbf{P}^{-1}\\mathbf{A P}\n",
    "$$\n",
    "Solve\n",
    "$$\n",
    "\\mathbf{P}^{-1}\\mathbf{f}(x) '=\\mathbf{\\Lambda P}^{-1} \\mathbf{f}(x)\n",
    "$$\n",
    "for $\\mathbf{P}^{-1} \\mathbf{f}(x)$. Then the final solution is \n",
    "$$\n",
    "\\mathbf{f}(x) = \\mathbf{P}\\left( \\mathbf{ P}^{-1} \\mathbf{f}(x) \\right)\n",
    "$$"
   ]
  },
  {
   "cell_type": "code",
   "execution_count": 35,
   "id": "77e81bbe-5bcf-410b-8511-295b985bb6c9",
   "metadata": {},
   "outputs": [
    {
     "data": {
      "text/latex": [
       "$\\displaystyle \\left[\\begin{matrix}0 & 1\\\\-2 & 3\\end{matrix}\\right]$"
      ],
      "text/plain": [
       "Matrix([\n",
       "[ 0, 1],\n",
       "[-2, 3]])"
      ]
     },
     "execution_count": 35,
     "metadata": {},
     "output_type": "execute_result"
    }
   ],
   "source": [
    "# A is a second order matrix of constant values, for demo\n",
    "# This is applicable only when the two eigenvalues are different\n",
    "def dsolve_homogeneous(A):\n",
    "    P, Lambda = A.diagonalize() # P\\A/P=Lambda\n",
    "    # Assemble the solutions directly\n",
    "    C1, C2 = symbols('C1, C2')\n",
    "    f1 = C1 * exp(Lambda[0,0]*x)\n",
    "    f2 = C2 * exp(Lambda[1,1]*x)\n",
    "    return P * Matrix([[f1],[f2]])\n",
    "\n",
    "def get_coefficient_homogeneous(a,b):\n",
    "    return Matrix([[0,1],[-b,-a]])\n",
    "\n",
    "get_coefficient_homogeneous(-3,2)"
   ]
  },
  {
   "cell_type": "code",
   "execution_count": 36,
   "id": "e25f499f-d080-4a58-a20d-b68848946522",
   "metadata": {},
   "outputs": [
    {
     "data": {
      "text/latex": [
       "$\\displaystyle \\left[\\begin{matrix}C_{1} e^{x} + C_{2} e^{2 x}\\\\C_{1} e^{x} + 2 C_{2} e^{2 x}\\end{matrix}\\right]$"
      ],
      "text/plain": [
       "Matrix([\n",
       "[  C1*exp(x) + C2*exp(2*x)],\n",
       "[C1*exp(x) + 2*C2*exp(2*x)]])"
      ]
     },
     "execution_count": 36,
     "metadata": {},
     "output_type": "execute_result"
    }
   ],
   "source": [
    "dsolve_homogeneous(get_coefficient_homogeneous(-3,2))\n",
    "# The first is the solution of f(x)"
   ]
  },
  {
   "cell_type": "code",
   "execution_count": null,
   "id": "9ebf716d-bc15-47bc-a026-80f44feabde6",
   "metadata": {},
   "outputs": [],
   "source": []
  }
 ],
 "metadata": {
  "kernelspec": {
   "display_name": "Python 3 (ipykernel)",
   "language": "python",
   "name": "python3"
  },
  "language_info": {
   "codemirror_mode": {
    "name": "ipython",
    "version": 3
   },
   "file_extension": ".py",
   "mimetype": "text/x-python",
   "name": "python",
   "nbconvert_exporter": "python",
   "pygments_lexer": "ipython3",
   "version": "3.12.2"
  }
 },
 "nbformat": 4,
 "nbformat_minor": 5
}
