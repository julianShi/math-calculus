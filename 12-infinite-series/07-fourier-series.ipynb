{
 "cells": [
  {
   "cell_type": "markdown",
   "id": "b5ebe719-188f-4d56-8e6a-275276829c26",
   "metadata": {},
   "source": [
    "Theorem: Periodic function $f(x)$ over $(-\\pi, \\pi)$ can be expanded as the Fourier series\n",
    "\n",
    "$\\displaystyle f( x) =\\frac{a_{0}}{2} +\\sum _{n=1}^{\\infty } a_{n}\\cos( nx) +\\sum _{n=1}^{\\infty } b_{n}\\sin( nx)$\n",
    "\n",
    "where\n",
    "\n",
    "$\\displaystyle a_{0} =\\frac{1}{\\pi }\\int _{-\\pi }^{\\pi } f( x) dx$\n",
    "\n",
    "$\\displaystyle a_{n} =\\frac{1}{\\pi }\\int _{-\\pi }^{\\pi } f( x)\\cos( nx) dx$\n",
    "\n",
    "$\\displaystyle b_{n} =\\frac{1}{\\pi }\\int _{-\\pi }^{\\pi } f( x)\\sin( nx) dx$\n",
    "\n",
    "We do not prove this theorem rigorously here. We will use the first terms in the Fourier series as a demonstration of calculating coefficients."
   ]
  },
  {
   "cell_type": "code",
   "execution_count": 1,
   "id": "73e57be3-3ac2-46fe-adb6-aad071ce9f26",
   "metadata": {},
   "outputs": [],
   "source": [
    "# environment preparation\n",
    "from sympy import *\n",
    "import sympy as sp\n",
    "init_printing()\n",
    "x, y, z, t = symbols('x y z t')\n",
    "k, m, n = symbols('k m n', integer=True)\n",
    "f, g, h = symbols('f g h', cls=Function)"
   ]
  },
  {
   "cell_type": "code",
   "execution_count": 2,
   "id": "f2c582ce-f453-4106-9613-659950a70240",
   "metadata": {},
   "outputs": [],
   "source": [
    "a_0, a_1, a_2, a_3 = symbols('a_0 a_1 a_2 a_3 ', real=True) # define the coefficients\n",
    "b_1, b_2, b_3 = symbols('b_1 b_2 b_3 ', real=True) # define the coefficients\n",
    "f = Function('f')(x) # f is a function of x"
   ]
  },
  {
   "cell_type": "code",
   "execution_count": 3,
   "id": "bf78fcbb-321d-4ce1-8cff-1c97bf7e87bd",
   "metadata": {},
   "outputs": [
    {
     "data": {
      "image/png": "[encoded data removed]",
      "text/latex": [
       "$\\displaystyle f{\\left(x \\right)} = \\frac{a_{0}}{2} + a_{1} \\cos{\\left(x \\right)} + a_{2} \\cos{\\left(2 x \\right)} + a_{3} \\cos{\\left(3 x \\right)} + b_{1} \\sin{\\left(x \\right)} + b_{2} \\sin{\\left(2 x \\right)} + b_{3} \\sin{\\left(3 x \\right)}$"
      ],
      "text/plain": [
       "       a₀                                                                                \n",
       "f(x) = ── + a₁⋅cos(x) + a₂⋅cos(2⋅x) + a₃⋅cos(3⋅x) + b₁⋅sin(x) + b₂⋅sin(2⋅x) + b₃⋅sin(3⋅x)\n",
       "       2                                                                                 "
      ]
     },
     "execution_count": 3,
     "metadata": {},
     "output_type": "execute_result"
    }
   ],
   "source": [
    "# For the sake of simplicity, we expand f(x) of up to 3 terms\n",
    "rhs = a_0/2+a_1*cos(x)+b_1*sin(x)+a_2*cos(2*x)+b_2*sin(2*x)+a_3*cos(3*x)+b_3*sin(3*x)\n",
    "Eq(f,rhs)"
   ]
  },
  {
   "cell_type": "code",
   "execution_count": 4,
   "id": "28baf495-e7e7-49e7-9117-baef5a5711ed",
   "metadata": {},
   "outputs": [
    {
     "data": {
      "image/png": "[encoded data removed]",
      "text/latex": [
       "$\\displaystyle \\int\\limits_{- \\pi}^{\\pi} f{\\left(x \\right)}\\, dx = \\pi a_{0}$"
      ],
      "text/plain": [
       "π                \n",
       "⌠                \n",
       "⎮  f(x) dx = π⋅a₀\n",
       "⌡                \n",
       "-π               "
      ]
     },
     "execution_count": 4,
     "metadata": {},
     "output_type": "execute_result"
    }
   ],
   "source": [
    "# To calculate certain coefficient, like the a_0,\n",
    "# we integrate the l.h.s. and r.h.s of the equation from -pi to pi\n",
    "eq=Eq(integrate(f,(x,-pi,pi)),integrate(rhs,(x,-pi,pi)))\n",
    "eq"
   ]
  },
  {
   "cell_type": "code",
   "execution_count": 5,
   "id": "47afbf7d-997f-423d-96f0-193ec61de493",
   "metadata": {},
   "outputs": [
    {
     "data": {
      "image/png": "[encoded data removed]",
      "text/latex": [
       "$\\displaystyle a_{0} = \\frac{\\int\\limits_{- \\pi}^{\\pi} f{\\left(x \\right)}\\, dx}{\\pi}$"
      ],
      "text/plain": [
       "     π         \n",
       "     ⌠         \n",
       "     ⎮  f(x) dx\n",
       "     ⌡         \n",
       "     -π        \n",
       "a₀ = ──────────\n",
       "         π     "
      ]
     },
     "execution_count": 5,
     "metadata": {},
     "output_type": "execute_result"
    }
   ],
   "source": [
    "eq.simplify() # represent the equation as a function of a_0"
   ]
  },
  {
   "cell_type": "code",
   "execution_count": 6,
   "id": "04fc14dd-8854-451f-b15d-a6265844e6e9",
   "metadata": {},
   "outputs": [
    {
     "data": {
      "image/png": "[encoded data removed]",
      "text/latex": [
       "$\\displaystyle \\int\\limits_{- \\pi}^{\\pi} f{\\left(x \\right)} \\cos{\\left(x \\right)}\\, dx = \\pi a_{1}$"
      ],
      "text/plain": [
       "π                       \n",
       "⌠                       \n",
       "⎮  f(x)⋅cos(x) dx = π⋅a₁\n",
       "⌡                       \n",
       "-π                      "
      ]
     },
     "execution_count": 6,
     "metadata": {},
     "output_type": "execute_result"
    }
   ],
   "source": [
    "# To calculate the coefficient a_1,\n",
    "# we multiply the l.h.s. and r.h.s of the equation by cos(x),\n",
    "# and integrate the l.h.s. and r.h.s of the equation from -pi to pi\n",
    "eq=Eq(integrate(f*cos(x),(x,-pi,pi)),integrate(rhs*cos(x),(x,-pi,pi)))\n",
    "eq"
   ]
  },
  {
   "cell_type": "code",
   "execution_count": 7,
   "id": "3f989fa5-69eb-46a4-8c8a-f67c641820d1",
   "metadata": {},
   "outputs": [
    {
     "data": {
      "image/png": "[encoded data removed]",
      "text/latex": [
       "$\\displaystyle a_{1} = \\frac{\\int\\limits_{- \\pi}^{\\pi} f{\\left(x \\right)} \\cos{\\left(x \\right)}\\, dx}{\\pi}$"
      ],
      "text/plain": [
       "     π                \n",
       "     ⌠                \n",
       "     ⎮  f(x)⋅cos(x) dx\n",
       "     ⌡                \n",
       "     -π               \n",
       "a₁ = ─────────────────\n",
       "             π        "
      ]
     },
     "execution_count": 7,
     "metadata": {},
     "output_type": "execute_result"
    }
   ],
   "source": [
    "eq.simplify()"
   ]
  },
  {
   "cell_type": "code",
   "execution_count": 8,
   "id": "4e365727-c6d8-407e-9a23-52efc28f7f00",
   "metadata": {},
   "outputs": [
    {
     "data": {
      "image/png": "[encoded data removed]",
      "text/latex": [
       "$\\displaystyle \\int\\limits_{- \\pi}^{\\pi} f{\\left(x \\right)} \\sin{\\left(x \\right)}\\, dx = \\pi b_{1}$"
      ],
      "text/plain": [
       "π                       \n",
       "⌠                       \n",
       "⎮  f(x)⋅sin(x) dx = π⋅b₁\n",
       "⌡                       \n",
       "-π                      "
      ]
     },
     "execution_count": 8,
     "metadata": {},
     "output_type": "execute_result"
    }
   ],
   "source": [
    "# Follow the same step to calculate the coefficient b_1,\n",
    "# we multiply the l.h.s. and r.h.s of the equation by sin(x),\n",
    "# and integrate the l.h.s. and r.h.s of the equation from -pi to pi\n",
    "eq=Eq(integrate(f*sin(x),(x,-pi,pi)),integrate(rhs*sin(x),(x,-pi,pi)))\n",
    "eq"
   ]
  },
  {
   "cell_type": "code",
   "execution_count": 9,
   "id": "7c3eae57-1cff-41c0-80ac-076342e9f97b",
   "metadata": {},
   "outputs": [
    {
     "data": {
      "image/png": "[encoded data removed]",
      "text/latex": [
       "$\\displaystyle b_{1} = \\frac{\\int\\limits_{- \\pi}^{\\pi} f{\\left(x \\right)} \\sin{\\left(x \\right)}\\, dx}{\\pi}$"
      ],
      "text/plain": [
       "     π                \n",
       "     ⌠                \n",
       "     ⎮  f(x)⋅sin(x) dx\n",
       "     ⌡                \n",
       "     -π               \n",
       "b₁ = ─────────────────\n",
       "             π        "
      ]
     },
     "execution_count": 9,
     "metadata": {},
     "output_type": "execute_result"
    }
   ],
   "source": [
    "# Represent the equation as a function of b_1\n",
    "eq.simplify()"
   ]
  },
  {
   "cell_type": "code",
   "execution_count": 10,
   "id": "82bc94db-f9a7-4e01-90e8-34d92f574d40",
   "metadata": {},
   "outputs": [
    {
     "data": {
      "image/png": "[encoded data removed]",
      "text/latex": [
       "$\\displaystyle \\int\\limits_{- \\pi}^{\\pi} f{\\left(x \\right)} \\cos{\\left(2 x \\right)}\\, dx = \\pi a_{2}$"
      ],
      "text/plain": [
       "π                         \n",
       "⌠                         \n",
       "⎮  f(x)⋅cos(2⋅x) dx = π⋅a₂\n",
       "⌡                         \n",
       "-π                        "
      ]
     },
     "execution_count": 10,
     "metadata": {},
     "output_type": "execute_result"
    }
   ],
   "source": [
    "# Follow the same step to calculate the coefficient a_2,\n",
    "eq=Eq(integrate(f*cos(2*x),(x,-pi,pi)),integrate(rhs*cos(2*x),(x,-pi,pi)))\n",
    "eq"
   ]
  },
  {
   "cell_type": "code",
   "execution_count": 11,
   "id": "0be3c247-c44c-40a5-b558-1d1ab638f3c1",
   "metadata": {},
   "outputs": [
    {
     "data": {
      "image/png": "[encoded data removed]",
      "text/latex": [
       "$\\displaystyle a_{2} = \\frac{\\int\\limits_{- \\pi}^{\\pi} f{\\left(x \\right)} \\cos{\\left(2 x \\right)}\\, dx}{\\pi}$"
      ],
      "text/plain": [
       "     π                  \n",
       "     ⌠                  \n",
       "     ⎮  f(x)⋅cos(2⋅x) dx\n",
       "     ⌡                  \n",
       "     -π                 \n",
       "a₂ = ───────────────────\n",
       "              π         "
      ]
     },
     "execution_count": 11,
     "metadata": {},
     "output_type": "execute_result"
    }
   ],
   "source": [
    "# Represent the equation as a function of a_2\n",
    "eq.simplify()"
   ]
  },
  {
   "cell_type": "code",
   "execution_count": 12,
   "id": "75658a76-0ced-4189-b5d1-9cdcf8706505",
   "metadata": {},
   "outputs": [
    {
     "data": {
      "image/png": "[encoded data removed]",
      "text/latex": [
       "$\\displaystyle \\frac{\\sin{\\left(x \\right)} \\int\\limits_{- \\pi}^{\\pi} f{\\left(x \\right)} \\sin{\\left(x \\right)}\\, dx}{\\pi} + \\frac{\\sin{\\left(2 x \\right)} \\int\\limits_{- \\pi}^{\\pi} f{\\left(x \\right)} \\sin{\\left(2 x \\right)}\\, dx}{\\pi} + \\frac{\\cos{\\left(x \\right)} \\int\\limits_{- \\pi}^{\\pi} f{\\left(x \\right)} \\cos{\\left(x \\right)}\\, dx}{\\pi} + \\frac{\\cos{\\left(2 x \\right)} \\int\\limits_{- \\pi}^{\\pi} f{\\left(x \\right)} \\cos{\\left(2 x \\right)}\\, dx}{\\pi} + \\frac{\\int\\limits_{- \\pi}^{\\pi} f{\\left(x \\right)}\\, dx}{2 \\pi} + \\ldots$"
      ],
      "text/plain": [
       "       π                            π                            π                            π                     π             \n",
       "       ⌠                            ⌠                            ⌠                            ⌠                     ⌠             \n",
       "sin(x)⋅⎮  f(x)⋅sin(x) dx   sin(2⋅x)⋅⎮  f(x)⋅sin(2⋅x) dx   cos(x)⋅⎮  f(x)⋅cos(x) dx   cos(2⋅x)⋅⎮  f(x)⋅cos(2⋅x) dx   ⎮  f(x) dx    \n",
       "       ⌡                            ⌡                            ⌡                            ⌡                     ⌡             \n",
       "       -π                           -π                           -π                           -π                    -π            \n",
       "──────────────────────── + ──────────────────────────── + ──────────────────────── + ──────────────────────────── + ────────── + …\n",
       "           π                            π                            π                            π                    2⋅π        "
      ]
     },
     "execution_count": 12,
     "metadata": {},
     "output_type": "execute_result"
    }
   ],
   "source": [
    "# You can continue calculating other coefficients b_2, a_3, b_3 as a home work\n",
    "# You can even try to calculate the generic expression of a_n\n",
    "# But I stop by here, and verify the previous steps by showing you the actual fourier_series\n",
    "fourier_series(f, (x, -pi, pi))\n",
    "# As you see from the result, the coefficients expression are the same to what we've calculated"
   ]
  },
  {
   "cell_type": "code",
   "execution_count": null,
   "id": "ae6b87bf-1886-4232-ba8c-0099f09da2ce",
   "metadata": {},
   "outputs": [],
   "source": []
  },
  {
   "cell_type": "code",
   "execution_count": null,
   "id": "f75c2605-3b82-42f5-9b4f-9aed4a508551",
   "metadata": {},
   "outputs": [],
   "source": []
  }
 ],
 "metadata": {
  "kernelspec": {
   "display_name": "Python 3 (ipykernel)",
   "language": "python",
   "name": "python3"
  },
  "language_info": {
   "codemirror_mode": {
    "name": "ipython",
    "version": 3
   },
   "file_extension": ".py",
   "mimetype": "text/x-python",
   "name": "python",
   "nbconvert_exporter": "python",
   "pygments_lexer": "ipython3",
   "version": "3.12.2"
  }
 },
 "nbformat": 4,
 "nbformat_minor": 5
}
