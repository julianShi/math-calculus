{
 "cells": [
  {
   "cell_type": "markdown",
   "id": "b5ebe719-188f-4d56-8e6a-275276829c26",
   "metadata": {},
   "source": [
    "Complex reriodic function $f(x)$ over $(-\\pi, \\pi)$ can be expanded as fourier series\n",
    "\n",
    "$$\n",
    "f( x) =\\sum _{n=-\\infty }^{\\infty } a_{n} e^{inx}\n",
    "$$\n",
    "\n",
    "where\n",
    "\n",
    "$$\n",
    "a_{n} =\\frac{1}{2\\pi }\\int _{-\\pi }^{\\pi } f(x)e^{-inx} dx\n",
    "$$"
   ]
  },
  {
   "cell_type": "code",
   "execution_count": 1,
   "id": "73e57be3-3ac2-46fe-adb6-aad071ce9f26",
   "metadata": {},
   "outputs": [],
   "source": [
    "from sympy import *\n",
    "init_printing()\n",
    "x, y, z, t = symbols('x y z t', real=True)\n",
    "k, m, n = symbols('k m n', integer=True)\n",
    "f, g, h = symbols('f g h', cls=Function)"
   ]
  },
  {
   "cell_type": "code",
   "execution_count": 2,
   "id": "06b7d316-0b8a-466d-b381-38b7412e7ecc",
   "metadata": {},
   "outputs": [],
   "source": [
    "a_m2, a_m1, a_0, a_1, a_2 = symbols('a_-2 a_-1 a_0 a_1 a_2', real=True) # define the coefficients\n",
    "f = Function('f', real=False)(x) # f is a complex function of the real variable x"
   ]
  },
  {
   "cell_type": "code",
   "execution_count": 3,
   "id": "f2c582ce-f453-4106-9613-659950a70240",
   "metadata": {},
   "outputs": [
    {
     "data": {
      "image/png": "[encoded data removed]",
      "text/latex": [
       "$\\displaystyle f{\\left(x \\right)} = a_{-1} e^{- i x} + a_{-2} e^{- 2 i x} + a_{0} + a_{1} e^{i x} + a_{2} e^{2 i x}$"
      ],
      "text/plain": [
       "            -ⅈ⋅x        -2⋅ⅈ⋅x            ⅈ⋅x       2⋅ⅈ⋅x\n",
       "f(x) = a₋₁⋅ℯ     + a₋₂⋅ℯ       + a₀ + a₁⋅ℯ    + a₂⋅ℯ     "
      ]
     },
     "execution_count": 3,
     "metadata": {},
     "output_type": "execute_result"
    }
   ],
   "source": [
    "# For the sake of simplicity, we expand f(x) of up to 3 terms\n",
    "rhs = a_0+a_m1*exp(-I*x)+a_1*exp(I*x)+a_m2*exp(-I*2*x)+a_2*exp(I*2*x)\n",
    "Eq(f,rhs)"
   ]
  },
  {
   "cell_type": "code",
   "execution_count": 4,
   "id": "d43be421-979d-4c2e-83ce-093540198935",
   "metadata": {},
   "outputs": [
    {
     "data": {
      "image/png": "[encoded data removed]",
      "text/latex": [
       "$\\displaystyle \\int\\limits_{- \\pi}^{\\pi} f{\\left(x \\right)}\\, dx = 2 \\pi a_{0}$"
      ],
      "text/plain": [
       "π                  \n",
       "⌠                  \n",
       "⎮  f(x) dx = 2⋅π⋅a₀\n",
       "⌡                  \n",
       "-π                 "
      ]
     },
     "execution_count": 4,
     "metadata": {},
     "output_type": "execute_result"
    }
   ],
   "source": [
    "# To calculate certain coefficient, like the a_0,\n",
    "# we integrate the l.h.s. and r.h.s of the equation from -pi to pi\n",
    "eq=Eq(integrate(f,(x,-pi,pi)),integrate(rhs,(x,-pi,pi)))\n",
    "eq"
   ]
  },
  {
   "cell_type": "code",
   "execution_count": 5,
   "id": "28baf495-e7e7-49e7-9117-baef5a5711ed",
   "metadata": {},
   "outputs": [
    {
     "data": {
      "image/png": "[encoded data removed]",
      "text/latex": [
       "$\\displaystyle a_{0} = \\frac{\\int\\limits_{- \\pi}^{\\pi} f{\\left(x \\right)}\\, dx}{2 \\pi}$"
      ],
      "text/plain": [
       "     π         \n",
       "     ⌠         \n",
       "     ⎮  f(x) dx\n",
       "     ⌡         \n",
       "     -π        \n",
       "a₀ = ──────────\n",
       "        2⋅π    "
      ]
     },
     "execution_count": 5,
     "metadata": {},
     "output_type": "execute_result"
    }
   ],
   "source": [
    "eq.simplify() # represent the equation as a function of a_0"
   ]
  },
  {
   "cell_type": "code",
   "execution_count": 6,
   "id": "47afbf7d-997f-423d-96f0-193ec61de493",
   "metadata": {},
   "outputs": [
    {
     "data": {
      "image/png": "[encoded data removed]",
      "text/latex": [
       "$\\displaystyle \\int\\limits_{- \\pi}^{\\pi} f{\\left(x \\right)} e^{- i x}\\, dx = 2 \\pi a_{1}$"
      ],
      "text/plain": [
       "π                        \n",
       "⌠                        \n",
       "⎮        -ⅈ⋅x            \n",
       "⎮  f(x)⋅ℯ     dx = 2⋅π⋅a₁\n",
       "⌡                        \n",
       "-π                       "
      ]
     },
     "execution_count": 6,
     "metadata": {},
     "output_type": "execute_result"
    }
   ],
   "source": [
    "# To calculate the coefficient a_1,\n",
    "# we multiply the l.h.s. and r.h.s of the equation by exp(-I*x),\n",
    "# and integrate the l.h.s. and r.h.s of the equation from -pi to pi\n",
    "base_function = exp(-I*x)\n",
    "eq=Eq(integrate(f*base_function,(x,-pi,pi)),integrate(rhs*base_function,(x,-pi,pi)))\n",
    "eq"
   ]
  },
  {
   "cell_type": "code",
   "execution_count": 7,
   "id": "04fc14dd-8854-451f-b15d-a6265844e6e9",
   "metadata": {},
   "outputs": [
    {
     "data": {
      "image/png": "[encoded data removed]",
      "text/latex": [
       "$\\displaystyle a_{1} = \\frac{\\int\\limits_{- \\pi}^{\\pi} f{\\left(x \\right)} e^{- i x}\\, dx}{2 \\pi}$"
      ],
      "text/plain": [
       "     π               \n",
       "     ⌠               \n",
       "     ⎮        -ⅈ⋅x   \n",
       "     ⎮  f(x)⋅ℯ     dx\n",
       "     ⌡               \n",
       "     -π              \n",
       "a₁ = ────────────────\n",
       "           2⋅π       "
      ]
     },
     "execution_count": 7,
     "metadata": {},
     "output_type": "execute_result"
    }
   ],
   "source": [
    "eq.simplify()"
   ]
  },
  {
   "cell_type": "code",
   "execution_count": 8,
   "id": "82ca516d-fdd9-4fe7-b639-8804ff4c69da",
   "metadata": {},
   "outputs": [
    {
     "data": {
      "image/png": "[encoded data removed]",
      "text/latex": [
       "$\\displaystyle \\int\\limits_{- \\pi}^{\\pi} f{\\left(x \\right)} e^{- 2 i x}\\, dx = 2 \\pi a_{2}$"
      ],
      "text/plain": [
       "π                          \n",
       "⌠                          \n",
       "⎮        -2⋅ⅈ⋅x            \n",
       "⎮  f(x)⋅ℯ       dx = 2⋅π⋅a₂\n",
       "⌡                          \n",
       "-π                         "
      ]
     },
     "execution_count": 8,
     "metadata": {},
     "output_type": "execute_result"
    }
   ],
   "source": [
    "# To calculate the coefficient a_2,\n",
    "# we multiply the l.h.s. and r.h.s of the equation by exp(-I*2*x),\n",
    "# and integrate the l.h.s. and r.h.s of the equation from -pi to pi\n",
    "base_function = exp(-I*2*x)\n",
    "eq=Eq(integrate(f*base_function,(x,-pi,pi)),integrate(rhs*base_function,(x,-pi,pi)))\n",
    "eq"
   ]
  },
  {
   "cell_type": "code",
   "execution_count": 9,
   "id": "c364b1fe-d85b-493c-933d-eb2a087d9e4c",
   "metadata": {},
   "outputs": [
    {
     "data": {
      "image/png": "[encoded data removed]",
      "text/latex": [
       "$\\displaystyle a_{2} = \\frac{\\int\\limits_{- \\pi}^{\\pi} f{\\left(x \\right)} e^{- 2 i x}\\, dx}{2 \\pi}$"
      ],
      "text/plain": [
       "     π                 \n",
       "     ⌠                 \n",
       "     ⎮        -2⋅ⅈ⋅x   \n",
       "     ⎮  f(x)⋅ℯ       dx\n",
       "     ⌡                 \n",
       "     -π                \n",
       "a₂ = ──────────────────\n",
       "            2⋅π        "
      ]
     },
     "execution_count": 9,
     "metadata": {},
     "output_type": "execute_result"
    }
   ],
   "source": [
    "eq.simplify()"
   ]
  },
  {
   "cell_type": "code",
   "execution_count": 10,
   "id": "81d8e787-0894-4c7a-a04c-82d248a88284",
   "metadata": {},
   "outputs": [],
   "source": [
    "# You are welcome to continue playing with this script, \n",
    "# and calculate the coefficients a_m1, a_m2"
   ]
  },
  {
   "cell_type": "code",
   "execution_count": null,
   "id": "983f8359-79fd-4f40-93f6-59990278d62e",
   "metadata": {},
   "outputs": [],
   "source": []
  },
  {
   "cell_type": "code",
   "execution_count": null,
   "id": "78c04e9c-3583-45f7-a615-470dbd8a7abb",
   "metadata": {},
   "outputs": [],
   "source": []
  }
 ],
 "metadata": {
  "kernelspec": {
   "display_name": "Python 3 (ipykernel)",
   "language": "python",
   "name": "python3"
  },
  "language_info": {
   "codemirror_mode": {
    "name": "ipython",
    "version": 3
   },
   "file_extension": ".py",
   "mimetype": "text/x-python",
   "name": "python",
   "nbconvert_exporter": "python",
   "pygments_lexer": "ipython3",
   "version": "3.12.2"
  }
 },
 "nbformat": 4,
 "nbformat_minor": 5
}
