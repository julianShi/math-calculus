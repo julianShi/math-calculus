{
 "cells": [
  {
   "cell_type": "markdown",
   "id": "b5ebe719-188f-4d56-8e6a-275276829c26",
   "metadata": {},
   "source": [
    "Periodic function $f(x)$ over $(-\\pi, \\pi)$ can be expanded as fourier series\n",
    "\n",
    "$\\displaystyle f( x) =\\frac{a_{0}}{2} +\\sum _{n=1}^{\\infty } a_{n}\\cos( nx) +\\sum _{n=1}^{\\infty } b_{n}\\sin( nx)$\n",
    "\n",
    "where\n",
    "\n",
    "$\\displaystyle a_{0} =\\frac{1}{\\pi }\\int _{-\\pi }^{\\pi } f( x) dx$\n",
    "\n",
    "$\\displaystyle a_{n} =\\frac{1}{\\pi }\\int _{-\\pi }^{\\pi } f( x)\\cos( nx) dx$\n",
    "\n",
    "$\\displaystyle b_{n} =\\frac{1}{\\pi }\\int _{-\\pi }^{\\pi } f( x)\\sin( nx) dx$\n"
   ]
  },
  {
   "cell_type": "code",
   "execution_count": 2,
   "id": "73e57be3-3ac2-46fe-adb6-aad071ce9f26",
   "metadata": {},
   "outputs": [],
   "source": [
    "from sympy import *\n",
    "init_printing()\n",
    "x, y, z, t = symbols('x y z t')\n",
    "k, m, n = symbols('k m n', integer=True)\n",
    "f, g, h = symbols('f g h', cls=Function)"
   ]
  },
  {
   "cell_type": "code",
   "execution_count": null,
   "id": "06b7d316-0b8a-466d-b381-38b7412e7ecc",
   "metadata": {},
   "outputs": [],
   "source": [
    "fourier_series(x, (x, -pi, pi))"
   ]
  },
  {
   "cell_type": "code",
   "execution_count": null,
   "id": "f2c582ce-f453-4106-9613-659950a70240",
   "metadata": {},
   "outputs": [],
   "source": []
  }
 ],
 "metadata": {
  "kernelspec": {
   "display_name": "Python 3 (ipykernel)",
   "language": "python",
   "name": "python3"
  },
  "language_info": {
   "codemirror_mode": {
    "name": "ipython",
    "version": 3
   },
   "file_extension": ".py",
   "mimetype": "text/x-python",
   "name": "python",
   "nbconvert_exporter": "python",
   "pygments_lexer": "ipython3",
   "version": "3.12.2"
  }
 },
 "nbformat": 4,
 "nbformat_minor": 5
}
