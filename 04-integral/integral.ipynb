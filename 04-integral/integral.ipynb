{
 "cells": [
  {
   "cell_type": "code",
   "execution_count": 2,
   "id": "d93a3190-2849-4352-8b85-8393d04d345d",
   "metadata": {},
   "outputs": [],
   "source": [
    "from sympy import *\n",
    "a,x=symbols('a x',real=True)"
   ]
  },
  {
   "cell_type": "code",
   "execution_count": 3,
   "id": "06d07f06-ff89-435e-a995-4e8c19104e17",
   "metadata": {},
   "outputs": [
    {
     "data": {
      "text/latex": [
       "$\\displaystyle \\int x^{a}\\, dx = \\begin{cases} \\frac{x^{a + 1}}{a + 1} & \\text{for}\\: a \\neq -1 \\\\\\log{\\left(x \\right)} & \\text{otherwise} \\end{cases}$"
      ],
      "text/plain": [
       "Eq(Integral(x**a, x), Piecewise((x**(a + 1)/(a + 1), Ne(a, -1)), (log(x), True)))"
      ]
     },
     "execution_count": 3,
     "metadata": {},
     "output_type": "execute_result"
    }
   ],
   "source": [
    "# integral of polynomial functions\n",
    "f = x**a\n",
    "Eq(Integral(f,x), integrate(f,x))"
   ]
  },
  {
   "cell_type": "code",
   "execution_count": 6,
   "id": "5720e2bd-f56d-4daa-8859-1f5562f0aa9a",
   "metadata": {},
   "outputs": [
    {
     "data": {
      "text/latex": [
       "$\\displaystyle \\int a^{x}\\, dx = \\begin{cases} \\frac{a^{x}}{\\log{\\left(a \\right)}} & \\text{for}\\: \\log{\\left(a \\right)} \\neq 0 \\\\x & \\text{otherwise} \\end{cases}$"
      ],
      "text/plain": [
       "Eq(Integral(a**x, x), Piecewise((a**x/log(a), Ne(log(a), 0)), (x, True)))"
      ]
     },
     "execution_count": 6,
     "metadata": {},
     "output_type": "execute_result"
    }
   ],
   "source": [
    "# integral of exponential functions\n",
    "f = a**x\n",
    "Eq(Integral(f,x), integrate(f,x))"
   ]
  },
  {
   "cell_type": "code",
   "execution_count": 8,
   "id": "a6963068-4f21-470a-bf3c-cdec5ce970bc",
   "metadata": {},
   "outputs": [
    {
     "data": {
      "text/latex": [
       "$\\displaystyle \\int \\frac{1}{a^{2} + x^{2}}\\, dx = \\frac{\\operatorname{atan}{\\left(\\frac{x}{a} \\right)}}{a}$"
      ],
      "text/plain": [
       "Eq(Integral(1/(a**2 + x**2), x), atan(x/a)/a)"
      ]
     },
     "execution_count": 8,
     "metadata": {},
     "output_type": "execute_result"
    }
   ],
   "source": [
    "# integral of trigonometric functions\n",
    "f = 1/(a**2+x**2)\n",
    "Eq(Integral(f,x), integrate(f,x))"
   ]
  },
  {
   "cell_type": "code",
   "execution_count": 9,
   "id": "7e6c75e7-a0a2-44e9-9df7-795d88568efe",
   "metadata": {},
   "outputs": [
    {
     "data": {
      "text/latex": [
       "$\\displaystyle \\int \\frac{1}{\\sqrt{a^{2} - x^{2}}}\\, dx = \\begin{cases} - \\frac{i x \\left|{a}\\right| \\operatorname{acosh}{\\left(\\frac{\\left|{x}\\right|}{\\left|{a}\\right|} \\right)}}{a \\left|{x}\\right|} + \\frac{\\pi x \\left|{a}\\right|}{2 a \\left|{x}\\right|} & \\text{for}\\: \\frac{x^{2}}{a^{2}} > 1 \\\\\\frac{x \\left|{a}\\right| \\operatorname{asin}{\\left(\\frac{\\left|{x}\\right|}{\\left|{a}\\right|} \\right)}}{a \\left|{x}\\right|} & \\text{otherwise} \\end{cases}$"
      ],
      "text/plain": [
       "Eq(Integral(1/sqrt(a**2 - x**2), x), Piecewise((-I*x*Abs(a)*acosh(Abs(x)/Abs(a))/(a*Abs(x)) + pi*x*Abs(a)/(2*a*Abs(x)), x**2/a**2 > 1), (x*Abs(a)*asin(Abs(x)/Abs(a))/(a*Abs(x)), True)))"
      ]
     },
     "execution_count": 9,
     "metadata": {},
     "output_type": "execute_result"
    }
   ],
   "source": [
    "f = 1/sqrt(a**2-x**2)\n",
    "Eq(Integral(f,x), integrate(f,x))"
   ]
  },
  {
   "cell_type": "code",
   "execution_count": 12,
   "id": "38a96d44-8335-49c4-ac52-887cf377e783",
   "metadata": {},
   "outputs": [],
   "source": [
    "# Integration by parts\n",
    "# There is no built-in function for integration by parts in sympy.\n",
    "# So we write one by ourselves.\n",
    "def integrate_by_parts(u, dvdx, x):\n",
    "    return Eq(Integral(u*dvdx,x), u * integrate(dvdx,x) - Integral(diff(u,x)*integrate(dvdx,x),x))"
   ]
  },
  {
   "cell_type": "code",
   "execution_count": 13,
   "id": "f5c9e51f-93c8-4d5e-aff2-1b55e3d81c9e",
   "metadata": {},
   "outputs": [
    {
     "data": {
      "text/latex": [
       "$\\displaystyle \\int x e^{x}\\, dx = x e^{x} - \\int e^{x}\\, dx$"
      ],
      "text/plain": [
       "Eq(Integral(x*exp(x), x), x*exp(x) - Integral(exp(x), x))"
      ]
     },
     "execution_count": 13,
     "metadata": {},
     "output_type": "execute_result"
    }
   ],
   "source": [
    "# example 1\n",
    "u = x\n",
    "v = exp(x)\n",
    "integrate_by_parts(u,v,x)"
   ]
  },
  {
   "cell_type": "code",
   "execution_count": 16,
   "id": "c7ac33d6-ab82-4e40-94d4-90ac42a6757a",
   "metadata": {},
   "outputs": [
    {
     "data": {
      "text/latex": [
       "$\\displaystyle \\int x^{2} e^{x}\\, dx = x^{2} e^{x} - \\int 2 x e^{x}\\, dx$"
      ],
      "text/plain": [
       "Eq(Integral(x**2*exp(x), x), x**2*exp(x) - Integral(2*x*exp(x), x))"
      ]
     },
     "execution_count": 16,
     "metadata": {},
     "output_type": "execute_result"
    }
   ],
   "source": [
    "# example 2\n",
    "u = x**2 \n",
    "v = exp(x)\n",
    "integrate_by_parts(u,v,x)"
   ]
  },
  {
   "cell_type": "code",
   "execution_count": null,
   "id": "50ba2240-6ecb-44f8-bb08-3a365a4bf4fb",
   "metadata": {},
   "outputs": [],
   "source": []
  }
 ],
 "metadata": {
  "kernelspec": {
   "display_name": "Python 3 (ipykernel)",
   "language": "python",
   "name": "python3"
  },
  "language_info": {
   "codemirror_mode": {
    "name": "ipython",
    "version": 3
   },
   "file_extension": ".py",
   "mimetype": "text/x-python",
   "name": "python",
   "nbconvert_exporter": "python",
   "pygments_lexer": "ipython3",
   "version": "3.12.2"
  }
 },
 "nbformat": 4,
 "nbformat_minor": 5
}
