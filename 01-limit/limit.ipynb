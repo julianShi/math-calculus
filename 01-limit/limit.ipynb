{
 "cells": [
  {
   "cell_type": "code",
   "execution_count": 65,
   "id": "2dfaa284-68e6-452f-8f23-69cad2247c94",
   "metadata": {},
   "outputs": [],
   "source": [
    "# Prepare namespace\n",
    "import sympy as sp\n",
    "x,y  = sp.symbols('x y', real=True)"
   ]
  },
  {
   "cell_type": "code",
   "execution_count": 42,
   "id": "4333455e-aee6-429e-8e92-411bd0d3fe89",
   "metadata": {},
   "outputs": [
    {
     "data": {
      "text/latex": [
       "$\\displaystyle 1$"
      ],
      "text/plain": [
       "1"
      ]
     },
     "execution_count": 42,
     "metadata": {},
     "output_type": "execute_result"
    }
   ],
   "source": [
    "# Step function\n",
    "f = sp.Heaviside(x)\n",
    "# Right limit\n",
    "sp.limit(f,x,0,'+')"
   ]
  },
  {
   "cell_type": "code",
   "execution_count": null,
   "id": "fae987f7-32e3-40aa-8454-5a1dda1f2335",
   "metadata": {},
   "outputs": [
    {
     "data": {
      "text/latex": [
       "$\\displaystyle 0$"
      ],
      "text/plain": [
       "0"
      ]
     },
     "execution_count": 27,
     "metadata": {},
     "output_type": "execute_result"
    }
   ],
   "source": [
    "# Left limit is different from right limit\n",
    "sp.limit(f,x,0,'-')"
   ]
  },
  {
   "cell_type": "code",
   "execution_count": 28,
   "id": "ee2f8e2f-54e2-44ae-b117-eacef93a1ff9",
   "metadata": {},
   "outputs": [
    {
     "data": {
      "text/latex": [
       "$\\displaystyle \\left\\langle -1, 1\\right\\rangle$"
      ],
      "text/plain": [
       "AccumBounds(-1, 1)"
      ]
     },
     "execution_count": 28,
     "metadata": {},
     "output_type": "execute_result"
    }
   ],
   "source": [
    "# There is no limit for sin(1/x)\n",
    "sp.limit(sp.sin(1/x),x,0,'+')"
   ]
  },
  {
   "cell_type": "code",
   "execution_count": 30,
   "id": "aea71a6b-8500-42a1-908d-48843050d09d",
   "metadata": {},
   "outputs": [
    {
     "data": {
      "text/latex": [
       "$\\displaystyle 1$"
      ],
      "text/plain": [
       "1"
      ]
     },
     "execution_count": 30,
     "metadata": {},
     "output_type": "execute_result"
    }
   ],
   "source": [
    "# Verify if two functions are of the same infinitesimal small\n",
    "# non-zero means they are of the same infinitesimal small\n",
    "f = sp.sin(x) \n",
    "g = x\n",
    "sp.limit(f/g,x,0)"
   ]
  },
  {
   "cell_type": "code",
   "execution_count": 43,
   "id": "7586b76e-ff28-4c90-a5e8-4c73a8401d89",
   "metadata": {},
   "outputs": [
    {
     "data": {
      "text/latex": [
       "$\\displaystyle e$"
      ],
      "text/plain": [
       "E"
      ]
     },
     "execution_count": 43,
     "metadata": {},
     "output_type": "execute_result"
    }
   ],
   "source": [
    "# Definition of the natural number e\n",
    "sp.limit((1+1/x)**x, x , sp.oo)"
   ]
  },
  {
   "cell_type": "code",
   "execution_count": 66,
   "id": "ed911da1-e6ac-4634-9b1a-ea7dd0d26ae5",
   "metadata": {},
   "outputs": [
    {
     "data": {
      "text/plain": [
       "[pi - asin(y), asin(y)]"
      ]
     },
     "execution_count": 66,
     "metadata": {},
     "output_type": "execute_result"
    }
   ],
   "source": [
    "# Calculate the inverse of a function \n",
    "eq = sp.Eq(y, sp.sin(x))\n",
    "sp.solve(eq, x)\n",
    "# There can be mulitple inverse functions"
   ]
  },
  {
   "cell_type": "code",
   "execution_count": null,
   "id": "83122eb0-b6dd-4003-86c6-aa33c5c29b57",
   "metadata": {},
   "outputs": [],
   "source": []
  }
 ],
 "metadata": {
  "kernelspec": {
   "display_name": "Python 3 (ipykernel)",
   "language": "python",
   "name": "python3"
  },
  "language_info": {
   "codemirror_mode": {
    "name": "ipython",
    "version": 3
   },
   "file_extension": ".py",
   "mimetype": "text/x-python",
   "name": "python",
   "nbconvert_exporter": "python",
   "pygments_lexer": "ipython3",
   "version": "3.12.2"
  }
 },
 "nbformat": 4,
 "nbformat_minor": 5
}
